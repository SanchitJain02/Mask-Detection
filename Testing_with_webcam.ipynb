{
 "cells": [
  {
   "cell_type": "code",
   "execution_count": 1,
   "id": "c540e337",
   "metadata": {},
   "outputs": [],
   "source": [
    "from tensorflow.keras.applications.mobilenet_v2 import preprocess_input\n",
    "from tensorflow.keras.preprocessing.image import img_to_array\n",
    "from tensorflow.keras.models import load_model\n",
    "import numpy as np\n",
    "import cv2\n",
    "import os\n",
    "from imutils.video import VideoStream \n",
    "import winsound\n",
    "import imutils"
   ]
  },
  {
   "cell_type": "code",
   "execution_count": 12,
   "id": "fc0ace61",
   "metadata": {},
   "outputs": [],
   "source": [
    "def detect_and_predict_mask(frame,faceNet,maskNet):\n",
    "    # grab the dimensions of the frame and then construct a blob\n",
    "    (h,w)= frame.shape[:2]\n",
    "    blob = cv2.dnn.blobFromImage(frame,1.0,(300,300),(104.0,177.0,123.0))\n",
    "    \n",
    "    faceNet.setInput(blob)\n",
    "    detections = faceNet.forward()\n",
    "    \n",
    "    # initialize our list of faces,their corresponding locations and list of predictions\n",
    "    \n",
    "    faces = []\n",
    "    locs = []\n",
    "    preds = []\n",
    "    \n",
    "    for i in range(0,detections.shape[2]):\n",
    "        confidence = detections[0,0,i,2]\n",
    "        if confidence > 0.5:\n",
    "            # we need the x and y co-ordinates\n",
    "            box = detections[0,0,i,3:7]*np.array([w,h,w,h])\n",
    "            (startX,startY,endX,endY) = box.astype(\"int\")\n",
    "            \n",
    "            # we need to ensure that the ounding boxes fall within the dimensions of the frame\n",
    "            (startX,startY) = (max(0,startX),max(0,startY))\n",
    "            (endX,endY) = (min(w-1,endX),min(h-1,endY))\n",
    "            \n",
    "            # extract the face ROI,convert it from BGR to RGB channel,resize it to 224,224 and preprocess it\n",
    "            face = frame[startY:endY,startX:endX]\n",
    "            face = cv2.cvtColor(face,cv2.COLOR_BGR2RGB)\n",
    "            face = cv2.resize(face,(224,224))\n",
    "            face = img_to_array(face)\n",
    "            face = preprocess_input(face)\n",
    "            \n",
    "            faces.append(face)\n",
    "            locs.append((startX,startY,endX,endY))\n",
    "            \n",
    "        # only make a prediction if atleast one face was detected\n",
    "        if len(faces)>0:\n",
    "            faces = np.array(faces,dtype=\"float32\")\n",
    "            preds = maskNet.predict(faces,batch_size = 12)\n",
    "            \n",
    "        return(locs,preds)    "
   ]
  },
  {
   "cell_type": "code",
   "execution_count": null,
   "id": "fe3c043b",
   "metadata": {},
   "outputs": [],
   "source": []
  },
  {
   "cell_type": "code",
   "execution_count": 13,
   "id": "de7dc478",
   "metadata": {},
   "outputs": [],
   "source": [
    "prototxtPath=os.path.sep.join([r\"C:\\Users\\91860\\Desktop\\PYTHON\\Projects\\Mask_Detection\\face_detector\",\"deploy.prototxt\"])\n",
    "weightsPath=os.path.sep.join([r\"C:\\Users\\91860\\Desktop\\PYTHON\\Projects\\Mask_Detection\\face_detector\",\"res10_300x300_ssd_iter_140000.caffemodel\"])\n"
   ]
  },
  {
   "cell_type": "code",
   "execution_count": 4,
   "id": "075e6df2",
   "metadata": {},
   "outputs": [],
   "source": [
    "faceNet=cv2.dnn.readNet(prototxtPath,weightsPath)"
   ]
  },
  {
   "cell_type": "code",
   "execution_count": 5,
   "id": "589d3540",
   "metadata": {},
   "outputs": [],
   "source": [
    "maskNet = load_model(r\"C:\\Users\\91860\\Desktop\\PYTHON\\Projects\\Mask_Detection\\mobilenet_v2.model\")"
   ]
  },
  {
   "cell_type": "code",
   "execution_count": 14,
   "id": "a1f616b1",
   "metadata": {},
   "outputs": [],
   "source": [
    "vs = VideoStream(src=0).start()\n",
    "\n",
    "while True:\n",
    "    # grab the frame the threaded video stream and resize it to have a maximum width of 400 pixels\n",
    "    frame = vs.read()\n",
    "    frame = imutils.resize(frame,width = 400)\n",
    "    \n",
    "    # detect the faces in the frame and predict if they wearing masks or not\n",
    "    (locs,preds) = detect_and_predict_mask(frame,faceNet,maskNet)\n",
    "    \n",
    "    # loop over the detected face locations and their corresponding locations\n",
    "    \n",
    "    for (box,pred) in zip(locs,preds):\n",
    "        (startX,startY,endX,endY) = box\n",
    "        (mask,withoutMask) = pred\n",
    "        \n",
    "        # determine the class label and color we will use to draw the bounding box and text\n",
    "        label = \"Mask\" if mask>withoutMask else \"No Mask\"\n",
    "        if label == \"Mask\":\n",
    "            color=(0,255,0)\n",
    "        else:\n",
    "            color=(0,0,255)\n",
    "            winsound.PlaySound(\"alert.wav\",winsound.SND_ASYNC)\n",
    "        \n",
    "        # display the label and bounding boxes\n",
    "        cv2.putText(frame,label,(startX,startY-10),cv2.FONT_HERSHEY_SIMPLEX,1.2,color,2)\n",
    "        cv2.rectangle(frame,(startX,startY),(endX,endY),color,2)\n",
    "        \n",
    "        \n",
    "    # show the output frame \n",
    "    cv2.imshow(\"Mask_Detection_with_Webcam\",frame)\n",
    "    key = cv2.waitKey(1) & 0xFF\n",
    "    \n",
    "    if key==ord(\"q\"):\n",
    "        break\n",
    "        \n",
    "cv2.destroyAllWindows()\n",
    "vs.stop()\n",
    "        \n",
    "    \n",
    "    \n",
    "    \n",
    "    "
   ]
  },
  {
   "cell_type": "code",
   "execution_count": null,
   "id": "f294520e",
   "metadata": {},
   "outputs": [],
   "source": []
  },
  {
   "cell_type": "code",
   "execution_count": null,
   "id": "4728b168",
   "metadata": {},
   "outputs": [],
   "source": []
  }
 ],
 "metadata": {
  "kernelspec": {
   "display_name": "Python 3",
   "language": "python",
   "name": "python3"
  },
  "language_info": {
   "codemirror_mode": {
    "name": "ipython",
    "version": 3
   },
   "file_extension": ".py",
   "mimetype": "text/x-python",
   "name": "python",
   "nbconvert_exporter": "python",
   "pygments_lexer": "ipython3",
   "version": "3.8.8"
  }
 },
 "nbformat": 4,
 "nbformat_minor": 5
}
