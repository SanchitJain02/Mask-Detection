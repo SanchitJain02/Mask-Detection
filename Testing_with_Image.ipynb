{
 "cells": [
  {
   "cell_type": "code",
   "execution_count": 1,
   "id": "cc450812",
   "metadata": {},
   "outputs": [],
   "source": [
    "from tensorflow.keras.applications.mobilenet_v2 import preprocess_input\n",
    "from tensorflow.keras.preprocessing.image import img_to_array\n",
    "from tensorflow.keras.models import load_model\n",
    "import numpy as np\n",
    "import cv2\n",
    "import os\n"
   ]
  },
  {
   "cell_type": "code",
   "execution_count": 2,
   "id": "ea9880a0",
   "metadata": {},
   "outputs": [],
   "source": [
    "prototxtPath=os.path.sep.join([r\"C:\\Users\\91860\\Desktop\\PYTHON\\Projects\\Mask_Detection\\face_detector\",\"deploy.prototxt\"])\n",
    "weightsPath=os.path.sep.join([r\"C:\\Users\\91860\\Desktop\\PYTHON\\Projects\\Mask_Detection\\face_detector\",\"res10_300x300_ssd_iter_140000.caffemodel\"])\n"
   ]
  },
  {
   "cell_type": "code",
   "execution_count": 3,
   "id": "5cc1cebd",
   "metadata": {},
   "outputs": [
    {
     "data": {
      "text/plain": [
       "'C:\\\\Users\\\\91860\\\\Desktop\\\\PYTHON\\\\Projects\\\\Mask_Detection\\\\face_detector\\\\deploy.prototxt'"
      ]
     },
     "execution_count": 3,
     "metadata": {},
     "output_type": "execute_result"
    }
   ],
   "source": [
    "prototxtPath"
   ]
  },
  {
   "cell_type": "code",
   "execution_count": 4,
   "id": "5531117a",
   "metadata": {},
   "outputs": [
    {
     "data": {
      "text/plain": [
       "'C:\\\\Users\\\\91860\\\\Desktop\\\\PYTHON\\\\Projects\\\\Mask_Detection\\\\face_detector\\\\res10_300x300_ssd_iter_140000.caffemodel'"
      ]
     },
     "execution_count": 4,
     "metadata": {},
     "output_type": "execute_result"
    }
   ],
   "source": [
    "weightsPath"
   ]
  },
  {
   "cell_type": "code",
   "execution_count": 5,
   "id": "3b6a0143",
   "metadata": {},
   "outputs": [],
   "source": [
    "net=cv2.dnn.readNet(prototxtPath,weightsPath)"
   ]
  },
  {
   "cell_type": "code",
   "execution_count": 6,
   "id": "d7e4941b",
   "metadata": {},
   "outputs": [],
   "source": [
    "model = load_model(r\"C:\\Users\\91860\\Desktop\\PYTHON\\Projects\\Mask_Detection\\mobilenet_v2.model\")"
   ]
  },
  {
   "cell_type": "code",
   "execution_count": 33,
   "id": "97ff14a9",
   "metadata": {},
   "outputs": [],
   "source": [
    "image = cv2.imread(r\"C:\\Users\\91860\\Desktop\\PYTHON\\Projects\\Mask_Detection\\example_03.png\")"
   ]
  },
  {
   "cell_type": "code",
   "execution_count": 34,
   "id": "e0ec0d6d",
   "metadata": {},
   "outputs": [
    {
     "data": {
      "text/plain": [
       "array([[[152, 153, 148],\n",
       "        [149, 150, 146],\n",
       "        [149, 150, 146],\n",
       "        ...,\n",
       "        [147, 150, 148],\n",
       "        [145, 148, 146],\n",
       "        [146, 149, 147]],\n",
       "\n",
       "       [[147, 149, 146],\n",
       "        [148, 151, 146],\n",
       "        [150, 152, 147],\n",
       "        ...,\n",
       "        [150, 152, 149],\n",
       "        [146, 149, 147],\n",
       "        [145, 148, 146]],\n",
       "\n",
       "       [[145, 148, 147],\n",
       "        [147, 150, 147],\n",
       "        [150, 154, 149],\n",
       "        ...,\n",
       "        [153, 153, 151],\n",
       "        [150, 152, 150],\n",
       "        [147, 151, 149]],\n",
       "\n",
       "       ...,\n",
       "\n",
       "       [[131, 130, 134],\n",
       "        [129, 129, 132],\n",
       "        [129, 129, 130],\n",
       "        ...,\n",
       "        [173, 177, 181],\n",
       "        [176, 182, 186],\n",
       "        [180, 187, 191]],\n",
       "\n",
       "       [[133, 131, 136],\n",
       "        [127, 128, 130],\n",
       "        [130, 133, 133],\n",
       "        ...,\n",
       "        [179, 184, 187],\n",
       "        [181, 187, 190],\n",
       "        [183, 191, 194]],\n",
       "\n",
       "       [[130, 130, 135],\n",
       "        [127, 128, 133],\n",
       "        [127, 129, 132],\n",
       "        ...,\n",
       "        [184, 189, 192],\n",
       "        [184, 190, 193],\n",
       "        [186, 193, 196]]], dtype=uint8)"
      ]
     },
     "execution_count": 34,
     "metadata": {},
     "output_type": "execute_result"
    }
   ],
   "source": [
    "image"
   ]
  },
  {
   "cell_type": "code",
   "execution_count": 35,
   "id": "a2448685",
   "metadata": {},
   "outputs": [],
   "source": [
    "(h,w) = image.shape[:2]"
   ]
  },
  {
   "cell_type": "code",
   "execution_count": 36,
   "id": "dd66df7f",
   "metadata": {},
   "outputs": [
    {
     "data": {
      "text/plain": [
       "(400, 600)"
      ]
     },
     "execution_count": 36,
     "metadata": {},
     "output_type": "execute_result"
    }
   ],
   "source": [
    "(h,w)"
   ]
  },
  {
   "cell_type": "code",
   "execution_count": 37,
   "id": "47dd5b9e",
   "metadata": {},
   "outputs": [],
   "source": [
    "blob = cv2.dnn.blobFromImage(image,1.0,(300,300),(104.0,177.0,123.0))"
   ]
  },
  {
   "cell_type": "code",
   "execution_count": 38,
   "id": "9011ddb9",
   "metadata": {},
   "outputs": [
    {
     "data": {
      "text/plain": [
       "array([[[[ 46.,  44.,  46., ...,  47.,  44.,  41.],\n",
       "         [ 43.,  45.,  44., ...,  43.,  46.,  43.],\n",
       "         [ 43.,  44.,  41., ...,  41.,  47.,  46.],\n",
       "         ...,\n",
       "         [ 26.,  27.,  34., ...,  45.,  63.,  73.],\n",
       "         [ 26.,  27.,  32., ...,  52.,  69.,  76.],\n",
       "         [ 25.,  25.,  33., ...,  62.,  77.,  80.]],\n",
       "\n",
       "        [[-26., -27., -24., ..., -26., -27., -29.],\n",
       "         [-27., -25., -26., ..., -27., -26., -27.],\n",
       "         [-26., -25., -25., ..., -29., -25., -26.],\n",
       "         ...,\n",
       "         [-48., -45., -35., ..., -29.,  -8.,   6.],\n",
       "         [-47., -44., -37., ..., -22.,  -1.,  10.],\n",
       "         [-48., -46., -36., ..., -12.,   7.,  14.]],\n",
       "\n",
       "        [[ 24.,  22.,  22., ...,  24.,  24.,  23.],\n",
       "         [ 24.,  24.,  22., ...,  22.,  25.,  25.],\n",
       "         [ 25.,  25.,  22., ...,  20.,  26.,  26.],\n",
       "         ...,\n",
       "         [ 10.,   9.,  20., ...,  28.,  48.,  62.],\n",
       "         [ 10.,  10.,  17., ...,  37.,  56.,  67.],\n",
       "         [ 11.,  10.,  20., ...,  46.,  64.,  71.]]]], dtype=float32)"
      ]
     },
     "execution_count": 38,
     "metadata": {},
     "output_type": "execute_result"
    }
   ],
   "source": [
    "blob"
   ]
  },
  {
   "cell_type": "code",
   "execution_count": 39,
   "id": "bd6a4471",
   "metadata": {},
   "outputs": [
    {
     "data": {
      "text/plain": [
       "(1, 3, 300, 300)"
      ]
     },
     "execution_count": 39,
     "metadata": {},
     "output_type": "execute_result"
    }
   ],
   "source": [
    "blob.shape"
   ]
  },
  {
   "cell_type": "code",
   "execution_count": 40,
   "id": "178b0049",
   "metadata": {},
   "outputs": [],
   "source": [
    "net.setInput(blob)\n",
    "detections = net.forward()"
   ]
  },
  {
   "cell_type": "code",
   "execution_count": 41,
   "id": "f719f2fb",
   "metadata": {
    "scrolled": true
   },
   "outputs": [
    {
     "data": {
      "text/plain": [
       "array([[[[0.        , 1.        , 0.9996724 , ..., 0.18173477,\n",
       "          0.4329286 , 0.46098718],\n",
       "         [0.        , 1.        , 0.81118363, ..., 0.02572086,\n",
       "          0.9942617 , 0.34080845],\n",
       "         [0.        , 1.        , 0.4345409 , ..., 0.19513153,\n",
       "          0.65238404, 0.6432173 ],\n",
       "         ...,\n",
       "         [0.        , 0.        , 0.        , ..., 0.        ,\n",
       "          0.        , 0.        ],\n",
       "         [0.        , 0.        , 0.        , ..., 0.        ,\n",
       "          0.        , 0.        ],\n",
       "         [0.        , 0.        , 0.        , ..., 0.        ,\n",
       "          0.        , 0.        ]]]], dtype=float32)"
      ]
     },
     "execution_count": 41,
     "metadata": {},
     "output_type": "execute_result"
    }
   ],
   "source": [
    "detections"
   ]
  },
  {
   "cell_type": "code",
   "execution_count": 42,
   "id": "7e38388d",
   "metadata": {},
   "outputs": [
    {
     "data": {
      "text/plain": [
       "(1, 1, 200, 7)"
      ]
     },
     "execution_count": 42,
     "metadata": {},
     "output_type": "execute_result"
    }
   ],
   "source": [
    "detections.shape"
   ]
  },
  {
   "cell_type": "code",
   "execution_count": 44,
   "id": "6958228c",
   "metadata": {},
   "outputs": [],
   "source": [
    "# Loop over the detecton\n",
    "for i in range(0,detections.shape[2]):\n",
    "    confidence = detections[0,0,i,2]\n",
    "    if confidence > 0.5:\n",
    "        # we need the x and y co-ordinates\n",
    "        box = detections[0,0,i,3:7]*np.array([w,h,w,h])\n",
    "        (startX,startY,endX,endY) = box.astype(\"int\")\n",
    "        # we need to ensure that the ounding boxes fall within the dimensions of the frame\n",
    "        (startX,startY) = (max(0,startX),max(0,startY))\n",
    "        (endX,endY) = (min(w-1,endX),min(h-1,endY))\n",
    "        \n",
    "        # extract the face ROI,convert it from BGR to RGB channel,resize it to 224,224 and preprocess it\n",
    "        face = image[startY:endY,startX:endX]\n",
    "        face = cv2.cvtColor(face,cv2.COLOR_BGR2RGB)\n",
    "        face = cv2.resize(face,(224,224))\n",
    "        face = img_to_array(face)\n",
    "        face = preprocess_input(face)\n",
    "        face = np.expand_dims(face,axis=0)\n",
    "        \n",
    "        (mask,withoutMask) = model.predict(face)[0]\n",
    "        \n",
    "        # determine the class label and color we will use to draw the bounding box and text\n",
    "        label = \"Mask\" if mask>withoutMask else \"No Mask\"\n",
    "        color=(0,255,0) if label==\"Mask\" else (0,0,255)\n",
    "        \n",
    "        # include the probability in the label\n",
    "        label = \"{}: {:.2f}%\".format(label,max(mask,withoutMask)*100)\n",
    "        \n",
    "        # display the label and bounding boxes\n",
    "        cv2.putText(image,label,(startX,startY-10),cv2.FONT_HERSHEY_SIMPLEX,0.45,color,2)\n",
    "        cv2.rectangle(image,(startX,startY),(endX,endY),color,2)\n",
    "        \n",
    "        \n",
    "        \n",
    "cv2.imshow(\"Output\",image)\n",
    "cv2.waitKey(0)\n",
    "cv2.destroyAllWindows()\n",
    "        "
   ]
  },
  {
   "cell_type": "code",
   "execution_count": null,
   "id": "8e67617b",
   "metadata": {},
   "outputs": [],
   "source": []
  }
 ],
 "metadata": {
  "kernelspec": {
   "display_name": "Python 3",
   "language": "python",
   "name": "python3"
  },
  "language_info": {
   "codemirror_mode": {
    "name": "ipython",
    "version": 3
   },
   "file_extension": ".py",
   "mimetype": "text/x-python",
   "name": "python",
   "nbconvert_exporter": "python",
   "pygments_lexer": "ipython3",
   "version": "3.8.8"
  }
 },
 "nbformat": 4,
 "nbformat_minor": 5
}
